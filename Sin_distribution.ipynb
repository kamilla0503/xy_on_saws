{
 "cells": [
  {
   "cell_type": "code",
   "execution_count": 5,
   "id": "fbaf303a",
   "metadata": {},
   "outputs": [],
   "source": [
    "import matplotlib.pyplot as plt\n",
    "import random\n",
    "import numpy as np\n",
    "\n",
    "import pandas as pd\n",
    "from matplotlib.ticker import LogFormatter \n",
    "from scipy.optimize import curve_fit\n",
    "from pathlib import Path\n",
    "import matplotlib.colors\n",
    "from matplotlib import ticker, cm\n",
    "import pickle\n",
    "\n",
    "from scipy.stats import norm\n",
    "\n",
    "import seaborn as sns\n",
    "from scipy.stats import norm, kurtosis"
   ]
  },
  {
   "cell_type": "code",
   "execution_count": 12,
   "id": "4fc26287",
   "metadata": {},
   "outputs": [],
   "source": [
    "X = np.random.uniform(low=-np.pi, high=np.pi, size=5000)\n",
    "Y = np.sin(X)\n",
    "Z = np.cos(X)\n",
    "W = np.sin(np.pi/2-X)"
   ]
  },
  {
   "cell_type": "code",
   "execution_count": 13,
   "id": "9f343e9b",
   "metadata": {},
   "outputs": [
    {
     "data": {
      "text/plain": [
       "<AxesSubplot:ylabel='Count'>"
      ]
     },
     "execution_count": 13,
     "metadata": {},
     "output_type": "execute_result"
    },
    {
     "data": {
      "image/png": "[encoded data removed]",
      "text/plain": [
       "<Figure size 432x288 with 1 Axes>"
      ]
     },
     "metadata": {
      "needs_background": "light"
     },
     "output_type": "display_data"
    }
   ],
   "source": [
    "sns.histplot(X)"
   ]
  },
  {
   "cell_type": "code",
   "execution_count": 18,
   "id": "5cf06391",
   "metadata": {},
   "outputs": [
    {
     "data": {
      "text/plain": [
       "<AxesSubplot:ylabel='Count'>"
      ]
     },
     "execution_count": 18,
     "metadata": {},
     "output_type": "execute_result"
    },
    {
     "data": {
      "image/png": "[encoded data removed]",
      "text/plain": [
       "<Figure size 432x288 with 1 Axes>"
      ]
     },
     "metadata": {
      "needs_background": "light"
     },
     "output_type": "display_data"
    }
   ],
   "source": [
    "sns.histplot(Y)"
   ]
  },
  {
   "cell_type": "code",
   "execution_count": 19,
   "id": "e84de70d",
   "metadata": {},
   "outputs": [
    {
     "data": {
      "text/plain": [
       "<AxesSubplot:ylabel='Count'>"
      ]
     },
     "execution_count": 19,
     "metadata": {},
     "output_type": "execute_result"
    },
    {
     "data": {
      "image/png": "[encoded data removed]",
      "text/plain": [
       "<Figure size 432x288 with 1 Axes>"
      ]
     },
     "metadata": {
      "needs_background": "light"
     },
     "output_type": "display_data"
    }
   ],
   "source": [
    "sns.histplot(Z)"
   ]
  },
  {
   "cell_type": "code",
   "execution_count": 20,
   "id": "4b6d790f",
   "metadata": {},
   "outputs": [
    {
     "data": {
      "text/plain": [
       "1.5339786634844204e-05"
      ]
     },
     "execution_count": 20,
     "metadata": {},
     "output_type": "execute_result"
    }
   ],
   "source": [
    "np.mean(Y)**2"
   ]
  },
  {
   "cell_type": "code",
   "execution_count": 34,
   "id": "10fd9fd5",
   "metadata": {},
   "outputs": [
    {
     "data": {
      "text/plain": [
       "<AxesSubplot:ylabel='Count'>"
      ]
     },
     "execution_count": 34,
     "metadata": {},
     "output_type": "execute_result"
    },
    {
     "data": {
      "image/png": "[encoded data removed]",
      "text/plain": [
       "<Figure size 432x288 with 1 Axes>"
      ]
     },
     "metadata": {
      "needs_background": "light"
     },
     "output_type": "display_data"
    }
   ],
   "source": [
    "M = 3000 #samples\n",
    "N = 1000 #spins \n",
    "X = np.random.uniform(low=-np.pi, high=np.pi, size=(M,N))\n",
    "M_sin = np.sum(np.sin(X),axis=1)**2\n",
    "M_cos = np.sum(np.cos(X),axis=1)**2\n",
    "\n",
    "M2 = (M_sin+M_cos)/N/N\n",
    " \n",
    "M4 = M2**2  \n",
    "\n",
    "\n",
    "sns.histplot(M2)"
   ]
  },
  {
   "cell_type": "code",
   "execution_count": 35,
   "id": "c4d2e00b",
   "metadata": {},
   "outputs": [
    {
     "data": {
      "text/plain": [
       "0.34161499779114335"
      ]
     },
     "execution_count": 35,
     "metadata": {},
     "output_type": "execute_result"
    }
   ],
   "source": [
    "1-np.mean(M4)/3/np.mean(M2)**2"
   ]
  },
  {
   "cell_type": "code",
   "execution_count": 36,
   "id": "eb457211",
   "metadata": {},
   "outputs": [
    {
     "data": {
      "text/plain": [
       "<AxesSubplot:ylabel='Count'>"
      ]
     },
     "execution_count": 36,
     "metadata": {},
     "output_type": "execute_result"
    },
    {
     "data": {
      "image/png": "[encoded data removed]",
      "text/plain": [
       "<Figure size 432x288 with 1 Axes>"
      ]
     },
     "metadata": {
      "needs_background": "light"
     },
     "output_type": "display_data"
    }
   ],
   "source": [
    "sns.histplot(np.mean(np.cos(X),axis=1)  )"
   ]
  },
  {
   "cell_type": "code",
   "execution_count": 30,
   "id": "34bcc8fb",
   "metadata": {},
   "outputs": [
    {
     "data": {
      "text/plain": [
       "6.524256926788322"
      ]
     },
     "execution_count": 30,
     "metadata": {},
     "output_type": "execute_result"
    }
   ],
   "source": [
    "kurtosis( M_sin+M_cos )"
   ]
  },
  {
   "cell_type": "code",
   "execution_count": 31,
   "id": "002c45df",
   "metadata": {},
   "outputs": [
    {
     "data": {
      "text/plain": [
       "0.028977021274848358"
      ]
     },
     "execution_count": 31,
     "metadata": {},
     "output_type": "execute_result"
    }
   ],
   "source": [
    "kurtosis(np.sum(np.cos(X),axis=1)  )"
   ]
  },
  {
   "cell_type": "code",
   "execution_count": 10,
   "id": "9720f0ab",
   "metadata": {},
   "outputs": [
    {
     "data": {
      "text/plain": [
       "<AxesSubplot:ylabel='Count'>"
      ]
     },
     "execution_count": 10,
     "metadata": {},
     "output_type": "execute_result"
    },
    {
     "data": {
      "image/png": "[encoded data removed]",
      "text/plain": [
       "<Figure size 432x288 with 1 Axes>"
      ]
     },
     "metadata": {
      "needs_background": "light"
     },
     "output_type": "display_data"
    }
   ],
   "source": [
    "N = 5000\n",
    "X = np.random.uniform(low=-np.pi, high=np.pi, size=N)\n",
    "Y = np.sin(X)\n",
    "Z = np.random.choice([-1,1], size=N)*np.sqrt(1-Y**2)\n",
    "sns.histplot(Z+Y)"
   ]
  },
  {
   "cell_type": "code",
   "execution_count": 11,
   "id": "8943261e",
   "metadata": {},
   "outputs": [
    {
     "data": {
      "text/plain": [
       "array([-0.81006004, -0.20063807, -0.92921956, ..., -0.47929305,\n",
       "        0.91438614,  0.9251038 ])"
      ]
     },
     "execution_count": 11,
     "metadata": {},
     "output_type": "execute_result"
    }
   ],
   "source": [
    "Z"
   ]
  },
  {
   "cell_type": "code",
   "execution_count": null,
   "id": "2f24fdb3",
   "metadata": {},
   "outputs": [],
   "source": []
  }
 ],
 "metadata": {
  "kernelspec": {
   "display_name": "Python 3",
   "language": "python",
   "name": "python3"
  },
  "language_info": {
   "codemirror_mode": {
    "name": "ipython",
    "version": 3
   },
   "file_extension": ".py",
   "mimetype": "text/x-python",
   "name": "python",
   "nbconvert_exporter": "python",
   "pygments_lexer": "ipython3",
   "version": "3.8.8"
  }
 },
 "nbformat": 4,
 "nbformat_minor": 5
}
