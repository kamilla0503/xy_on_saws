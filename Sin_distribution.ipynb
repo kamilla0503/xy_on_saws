{
 "cells": [
  {
   "cell_type": "code",
   "execution_count": 1,
   "id": "fbaf303a",
   "metadata": {},
   "outputs": [],
   "source": [
    "import matplotlib.pyplot as plt\n",
    "import random\n",
    "import numpy as np\n",
    "\n",
    "import pandas as pd\n",
    "from matplotlib.ticker import LogFormatter \n",
    "from scipy.optimize import curve_fit\n",
    "from pathlib import Path\n",
    "import matplotlib.colors\n",
    "from matplotlib import ticker, cm\n",
    "import pickle\n",
    "\n",
    "from scipy.stats import norm\n",
    "\n",
    "import seaborn as sns\n",
    "from scipy.stats import norm, kurtosis"
   ]
  },
  {
   "cell_type": "code",
   "execution_count": 2,
   "id": "4fc26287",
   "metadata": {},
   "outputs": [],
   "source": [
    "X = np.random.uniform(low=-np.pi, high=np.pi, size=5000)\n",
    "Y = np.sin(X)\n",
    "Z = np.cos(X)\n",
    "W = np.sin(np.pi/2-X)"
   ]
  },
  {
   "cell_type": "code",
   "execution_count": 3,
   "id": "9f343e9b",
   "metadata": {},
   "outputs": [
    {
     "data": {
      "text/plain": [
       "<AxesSubplot:ylabel='Count'>"
      ]
     },
     "execution_count": 3,
     "metadata": {},
     "output_type": "execute_result"
    },
    {
     "data": {
      "image/png": "[encoded data removed]",
      "text/plain": [
       "<Figure size 432x288 with 1 Axes>"
      ]
     },
     "metadata": {
      "needs_background": "light"
     },
     "output_type": "display_data"
    }
   ],
   "source": [
    "sns.histplot(X)"
   ]
  },
  {
   "cell_type": "code",
   "execution_count": 4,
   "id": "5cf06391",
   "metadata": {},
   "outputs": [
    {
     "data": {
      "text/plain": [
       "<AxesSubplot:ylabel='Count'>"
      ]
     },
     "execution_count": 4,
     "metadata": {},
     "output_type": "execute_result"
    },
    {
     "data": {
      "image/png": "[encoded data removed]",
      "text/plain": [
       "<Figure size 432x288 with 1 Axes>"
      ]
     },
     "metadata": {
      "needs_background": "light"
     },
     "output_type": "display_data"
    }
   ],
   "source": [
    "sns.histplot(Y)"
   ]
  },
  {
   "cell_type": "code",
   "execution_count": 5,
   "id": "e84de70d",
   "metadata": {},
   "outputs": [
    {
     "data": {
      "text/plain": [
       "<AxesSubplot:ylabel='Count'>"
      ]
     },
     "execution_count": 5,
     "metadata": {},
     "output_type": "execute_result"
    },
    {
     "data": {
      "image/png": "[encoded data removed]",
      "text/plain": [
       "<Figure size 432x288 with 1 Axes>"
      ]
     },
     "metadata": {
      "needs_background": "light"
     },
     "output_type": "display_data"
    }
   ],
   "source": [
    "sns.histplot(Z)"
   ]
  },
  {
   "cell_type": "code",
   "execution_count": 6,
   "id": "4b6d790f",
   "metadata": {},
   "outputs": [
    {
     "data": {
      "text/plain": [
       "0.0001054902861053663"
      ]
     },
     "execution_count": 6,
     "metadata": {},
     "output_type": "execute_result"
    }
   ],
   "source": [
    "np.mean(Y)**2"
   ]
  },
  {
   "cell_type": "code",
   "execution_count": 7,
   "id": "10fd9fd5",
   "metadata": {},
   "outputs": [
    {
     "data": {
      "text/plain": [
       "<AxesSubplot:ylabel='Count'>"
      ]
     },
     "execution_count": 7,
     "metadata": {},
     "output_type": "execute_result"
    },
    {
     "data": {
      "image/png": "[encoded data removed]",
      "text/plain": [
       "<Figure size 432x288 with 1 Axes>"
      ]
     },
     "metadata": {
      "needs_background": "light"
     },
     "output_type": "display_data"
    }
   ],
   "source": [
    "M = 4000 #samples\n",
    "N = 20#spins \n",
    "X = np.random.uniform(low=-np.pi, high=np.pi, size=(M,N))\n",
    "M_sin = np.sum(np.sin(X),axis=1)**2\n",
    "M_cos = np.sum(np.cos(X),axis=1)**2\n",
    "\n",
    "M2 = (M_sin+M_cos)/N/N\n",
    " \n",
    "M4 = M2**2  \n",
    "\n",
    "\n",
    "sns.histplot(M2)"
   ]
  },
  {
   "cell_type": "code",
   "execution_count": 8,
   "id": "b2c0cd06",
   "metadata": {},
   "outputs": [],
   "source": [
    "E = np.zeros((M, N-1))\n",
    "\n",
    "for i in range(N-1):\n",
    "    E[:,i]=np.cos(X[:,i+1]-X[:,i])\n",
    "\n",
    "E_mean = np.mean(E, axis=1)"
   ]
  },
  {
   "cell_type": "code",
   "execution_count": 9,
   "id": "41f0df94",
   "metadata": {},
   "outputs": [
    {
     "data": {
      "text/plain": [
       "-0.0010688876661810536"
      ]
     },
     "execution_count": 9,
     "metadata": {},
     "output_type": "execute_result"
    }
   ],
   "source": [
    "E_mean.mean()"
   ]
  },
  {
   "cell_type": "code",
   "execution_count": 10,
   "id": "b9e5f73a",
   "metadata": {},
   "outputs": [
    {
     "data": {
      "text/plain": [
       "<AxesSubplot:ylabel='Count'>"
      ]
     },
     "execution_count": 10,
     "metadata": {},
     "output_type": "execute_result"
    },
    {
     "data": {
      "image/png": "[encoded data removed]",
      "text/plain": [
       "<Figure size 432x288 with 1 Axes>"
      ]
     },
     "metadata": {
      "needs_background": "light"
     },
     "output_type": "display_data"
    }
   ],
   "source": [
    "sns.histplot(E_mean  )"
   ]
  },
  {
   "cell_type": "code",
   "execution_count": 11,
   "id": "c4d2e00b",
   "metadata": {},
   "outputs": [
    {
     "data": {
      "text/plain": [
       "0.34474551271151577"
      ]
     },
     "execution_count": 11,
     "metadata": {},
     "output_type": "execute_result"
    }
   ],
   "source": [
    "1-np.mean(M4)/3/np.mean(M2)**2"
   ]
  },
  {
   "cell_type": "code",
   "execution_count": 12,
   "id": "eb457211",
   "metadata": {},
   "outputs": [
    {
     "data": {
      "text/plain": [
       "<AxesSubplot:ylabel='Count'>"
      ]
     },
     "execution_count": 12,
     "metadata": {},
     "output_type": "execute_result"
    },
    {
     "data": {
      "image/png": "[encoded data removed]",
      "text/plain": [
       "<Figure size 432x288 with 1 Axes>"
      ]
     },
     "metadata": {
      "needs_background": "light"
     },
     "output_type": "display_data"
    }
   ],
   "source": [
    "sns.histplot(np.mean(np.cos(X),axis=1)  )"
   ]
  },
  {
   "cell_type": "code",
   "execution_count": 13,
   "id": "34bcc8fb",
   "metadata": {},
   "outputs": [
    {
     "data": {
      "text/plain": [
       "5.2161047826405955"
      ]
     },
     "execution_count": 13,
     "metadata": {},
     "output_type": "execute_result"
    }
   ],
   "source": [
    "kurtosis( M_sin+M_cos )"
   ]
  },
  {
   "cell_type": "code",
   "execution_count": 14,
   "id": "002c45df",
   "metadata": {},
   "outputs": [
    {
     "data": {
      "text/plain": [
       "-0.06777751462977077"
      ]
     },
     "execution_count": 14,
     "metadata": {},
     "output_type": "execute_result"
    }
   ],
   "source": [
    "kurtosis(np.sum(np.cos(X),axis=1)  )"
   ]
  },
  {
   "cell_type": "code",
   "execution_count": 15,
   "id": "9720f0ab",
   "metadata": {},
   "outputs": [
    {
     "data": {
      "text/plain": [
       "<AxesSubplot:ylabel='Count'>"
      ]
     },
     "execution_count": 15,
     "metadata": {},
     "output_type": "execute_result"
    },
    {
     "data": {
      "image/png": "[encoded data removed]",
      "text/plain": [
       "<Figure size 432x288 with 1 Axes>"
      ]
     },
     "metadata": {
      "needs_background": "light"
     },
     "output_type": "display_data"
    }
   ],
   "source": [
    "N = 5000\n",
    "X = np.random.uniform(low=-np.pi, high=np.pi, size=N)\n",
    "Y = np.sin(X)\n",
    "Z = np.random.choice([-1,1], size=N)*np.sqrt(1-Y**2)\n",
    "sns.histplot(Z+Y)"
   ]
  },
  {
   "cell_type": "code",
   "execution_count": 16,
   "id": "8943261e",
   "metadata": {},
   "outputs": [
    {
     "data": {
      "text/plain": [
       "array([ 0.41593651,  0.88252261,  0.30702518, ..., -0.88695961,\n",
       "       -0.58461373,  0.70998145])"
      ]
     },
     "execution_count": 16,
     "metadata": {},
     "output_type": "execute_result"
    }
   ],
   "source": [
    "Z"
   ]
  },
  {
   "cell_type": "code",
   "execution_count": null,
   "id": "2f24fdb3",
   "metadata": {},
   "outputs": [],
   "source": []
  }
 ],
 "metadata": {
  "kernelspec": {
   "display_name": "Python 3",
   "language": "python",
   "name": "python3"
  },
  "language_info": {
   "codemirror_mode": {
    "name": "ipython",
    "version": 3
   },
   "file_extension": ".py",
   "mimetype": "text/x-python",
   "name": "python",
   "nbconvert_exporter": "python",
   "pygments_lexer": "ipython3",
   "version": "3.8.8"
  }
 },
 "nbformat": 4,
 "nbformat_minor": 5
}
