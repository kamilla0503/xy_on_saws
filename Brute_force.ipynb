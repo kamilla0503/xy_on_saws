{
 "cells": [
  {
   "cell_type": "code",
   "execution_count": 1,
   "id": "53d97554",
   "metadata": {},
   "outputs": [],
   "source": [
    "import matplotlib.pyplot as plt\n",
    "import numpy as np \n",
    "from math import sqrt \n",
    "from math import floor\n",
    "from math import ceil\n",
    "from math import exp \n",
    "import pickle\n",
    "from operator import itemgetter\n",
    "import time\n",
    "from datetime import timedelta\n",
    "import matplotlib\n",
    "from matplotlib import cm, colors\n",
    "from numpy import amin, amax, ravel\n",
    "import pandas as pd \n",
    "import pickle"
   ]
  },
  {
   "cell_type": "code",
   "execution_count": 2,
   "id": "e64b74cb",
   "metadata": {
    "tags": []
   },
   "outputs": [],
   "source": [
    "def get_all_saws(current_paths, length, current_conformation):\n",
    "    \"\"\" Все созданные конформации лежат в первом аргументе функции get_all_saws, \n",
    "    поэтому первым аргументом нужно подавать переменную, которой ранее присвоили пустой список\n",
    "    \n",
    "    \"\"\"\n",
    "    if(length==1):\n",
    "        current_paths.append(current_conformation)\n",
    "    else:\n",
    "        for step in [(1, 0), (-1, 0), (0, 1),  (0, -1)]:\n",
    "            new_point = (current_conformation[-1][0]+step[0], current_conformation[-1][1]+step[1] )\n",
    "            if new_point in current_conformation:\n",
    "                continue\n",
    "            else:\n",
    "                temp_path = current_conformation.copy()\n",
    "                temp_path.append(new_point)\n",
    "                get_all_saws(current_paths, length-1,  temp_path)"
   ]
  },
  {
   "cell_type": "code",
   "execution_count": 3,
   "id": "65ad8c7f",
   "metadata": {},
   "outputs": [],
   "source": [
    "def end_to_end_distance(path):\n",
    "    \"\"\"Евклидова метрика\"\"\"\n",
    "    distance = (path[-1][0]-path[0][0])**2+(path[-1][1]-path[0][1])**2   \n",
    "    return distance "
   ]
  },
  {
   "cell_type": "code",
   "execution_count": 4,
   "id": "3116e2a5",
   "metadata": {},
   "outputs": [],
   "source": [
    "steps = [(1, 0), (-1, 0), (0, 1),  (0, -1)]\n",
    "def xy_energy(saw, seq):\n",
    "    \"\"\"Функция принимает на вход конформацию на плоскости(список координат). \n",
    "    Возвращает число топологических соседей для нее \"\"\"\n",
    "    k=0.0\n",
    "    for i in range(1, len(saw)-1):\n",
    "        for step in steps:\n",
    "            new_point = (saw[i][0]+step[0], saw[i][1]+step[1] )\n",
    "            if (new_point in saw    ):\n",
    "                position = saw.index(new_point)\n",
    "                k=k+np.cos(seq[i]-seq[position])\n",
    "                \n",
    "    for step in steps:\n",
    "        new_point_begin = (saw[0][0]+step[0], saw[0][1]+step[1] )\n",
    "        new_point_end= ( saw[-1][0]+step[0], saw[-1][1]+step[1])\n",
    "        \n",
    "        if(new_point_begin in saw ):\n",
    "            position = saw.index(new_point_begin)\n",
    "            k=k+np.cos(seq[0]-seq[position])\n",
    " \n",
    "        if( new_point_end in saw    ):\n",
    "            position = saw.index(new_point_end)\n",
    "            k=k+np.cos(seq[-1]-seq[position])\n",
    "        \n",
    "        \n",
    "    #print(k//2)\n",
    "    return k/2.0"
   ]
  },
  {
   "cell_type": "code",
   "execution_count": 5,
   "id": "a556057f",
   "metadata": {},
   "outputs": [],
   "source": [
    "h = 0\n",
    "def calc_r (eps, f = 8):\n",
    "\n",
    "    mean_c_l = []\n",
    "    \n",
    "    for i in range(4, f+1):\n",
    "        \n",
    "        conformat = []\n",
    "\n",
    "        start_conformation = [(0,0)]\n",
    "        get_all_saws(conformat, i ,start_conformation)\n",
    "\n",
    "        Z = 0.0\n",
    "        R_sum = 0.0\n",
    "        \n",
    "        seq = np.random.uniform(-np.pi,np.pi, (10000, i))\n",
    "         \n",
    "        for l in range(len(conformat)):\n",
    "            r = end_to_end_distance(conformat[l])\n",
    "            for j in range(len(seq)):\n",
    "                E = xy_energy(conformat[l], seq[j])\n",
    "                Z = Z + np.exp(-(-eps*E ))\n",
    "                 \n",
    "                R_sum = R_sum + np.exp(-(-eps*E ))*r\n",
    "\n",
    "        mean_c_l.append(R_sum/Z)\n",
    "        \n",
    " \n",
    "            \n",
    "        print(i)\n",
    "        #print(R_sum,Z)\n",
    "        print(R_sum/Z)"
   ]
  },
  {
   "cell_type": "code",
   "execution_count": 7,
   "id": "e78a9a8b",
   "metadata": {},
   "outputs": [],
   "source": [
    "h = 0\n",
    "def calc_checks(eps, f = 8, conformat= None):\n",
    "    if (conformat==None):\n",
    "        \n",
    "        conformat = []\n",
    "\n",
    "        start_conformation = [(0,0)]\n",
    "        get_all_saws(conformat, i ,start_conformation)\n",
    "\n",
    "    Z = 0.0\n",
    "    R_sum = 0.0\n",
    "\n",
    "    seq = np.random.uniform(-np.pi,np.pi, (600, f))\n",
    "\n",
    "    sin = 0.0\n",
    "    cos = 0.0 \n",
    "    mag2 = 0.0\n",
    "    e_=0\n",
    "    for l in range(len(conformat)):\n",
    "        r = end_to_end_distance(conformat[l])\n",
    "        for j in range(len(seq)):\n",
    "            E = xy_energy(conformat[l], seq[j])\n",
    "            sin_ = np.mean(np.sin(seq[j]))\n",
    "            cos_ = np.mean(np.cos(seq[j]))\n",
    "            mag2_ = np.mean(np.cos(seq[j]))**2+np.mean(np.sin(seq[j]))**2\n",
    "            Z = Z + np.exp((-eps*E ))\n",
    "\n",
    "            R_sum = R_sum + np.exp((-eps*E ))*r\n",
    "            sin+= (np.exp((-eps*E ))*sin_)\n",
    "            cos+= (np.exp((-eps*E ))*cos_)\n",
    "            mag2+= (np.exp((-eps*E ))*mag2_)\n",
    "            e_+= (np.exp((-eps*E ))*(-E))\n",
    "          \n",
    "    #print(\"E\", e_/Z)\n",
    "    #print(\"mag2 \", mag2/Z)\n",
    "    \n",
    "    return R_sum/Z,e_/Z,mag2/Z\n",
    "\n",
    " \n",
    "    #print(R_sum,Z)\n",
    "    #print(R_sum/Z)\n",
    "    #print(\"sin \", sin/Z)\n",
    "    #print(\"cos \", cos/Z)\n",
    "    #print(\"mag2 \", mag2/Z)\n",
    "    #print(\"E\", e_/Z)\n",
    " "
   ]
  },
  {
   "cell_type": "code",
   "execution_count": 8,
   "id": "061dae22",
   "metadata": {},
   "outputs": [
    {
     "name": "stdout",
     "output_type": "stream",
     "text": [
      "0 1 2 3 4 5 6 7 8 9 8 0\n",
      "0 1 2 3 4 5 6 7 8 9 8 0.3\n",
      "0 1 2 3 4 5 6 7 8 9 8 0.6\n",
      "0 1 2 3 4 5 6 7 8 9 8 0.9\n",
      "0 1 2 3 4 5 6 7 8 9 8 1.2\n",
      "0 1 2 3 4 5 6 7 8 9 8 1.5\n"
     ]
    }
   ],
   "source": [
    "N = 10\n",
    "L = [8]\n",
    "J = [0, 0.3, 0.6, 0.9, 1.2, 1.5]\n",
    " \n",
    "\n",
    "results = []\n",
    "for l in L:\n",
    "    conformat = []\n",
    "    start_conformation = [(0,0)]\n",
    "    get_all_saws(conformat, l ,start_conformation)\n",
    "    for j in J:\n",
    "        Rs = np.zeros(N)\n",
    "        Rerss = np.zeros(N)\n",
    "        Es = np.zeros(N)\n",
    "        Eerss = np.zeros(N)      \n",
    "        M2s = np.zeros(N)\n",
    "        M2erss = np.zeros(N)\n",
    "        for i in range(N):\n",
    "            Rs[i], Es[i], M2s[i] = calc_checks(-j, l, conformat)\n",
    "            print(i, end = \" \")\n",
    "        results.append(\n",
    "        [l, j, 0, np.mean(Rs), np.std(Rs)\n",
    "        , np.mean(Es), np.std(Es)\n",
    "        , np.mean(M2s), np.std(M2s)])\n",
    "        print(l, j)\n",
    "\n",
    "results = np.array(results)\n",
    "#results          \n",
    "np.savetxt('shortresults1.txt',results)        "
   ]
  },
  {
   "cell_type": "code",
   "execution_count": 10,
   "id": "52476264",
   "metadata": {},
   "outputs": [],
   "source": [
    "results = np.array(results)\n",
    "            \n",
    "np.savetxt('EE/shortresults.txt',results)        "
   ]
  },
  {
   "cell_type": "code",
   "execution_count": 23,
   "id": "050445e8",
   "metadata": {},
   "outputs": [],
   "source": [
    "conformat = []\n",
    "\n",
    "start_conformation = [(0,0)]\n",
    "get_all_saws(conformat, 6 ,start_conformation)"
   ]
  },
  {
   "cell_type": "code",
   "execution_count": 10,
   "id": "947fe8a4",
   "metadata": {},
   "outputs": [
    {
     "name": "stdout",
     "output_type": "stream",
     "text": [
      "9.030904168393608\n",
      "sin  -0.003096845875214851\n",
      "cos  0.048870342601087045\n",
      "mag2  0.13190733196570564\n",
      "E -1.3676966850163097\n"
     ]
    }
   ],
   "source": [
    "calc_checks(-0.8, 6, conformat)"
   ]
  },
  {
   "cell_type": "code",
   "execution_count": 22,
   "id": "bde74c17",
   "metadata": {},
   "outputs": [
    {
     "name": "stdout",
     "output_type": "stream",
     "text": [
      "6.209641703358412\n",
      "sin  0.08888718579155522\n",
      "cos  0.01732769609168026\n",
      "mag2  0.5282857262894496\n",
      "E 2.5145492078246585\n"
     ]
    }
   ],
   "source": [
    "calc_checks(1.4, 5, conformat)"
   ]
  },
  {
   "cell_type": "code",
   "execution_count": 17,
   "id": "c488ca33",
   "metadata": {},
   "outputs": [
    {
     "name": "stdout",
     "output_type": "stream",
     "text": [
      "7.04\n",
      "sin  -0.0060536687379127855\n",
      "cos  -0.00916836332058467\n",
      "mag2  0.19721833271478106\n",
      "E -0.03414450728842748\n"
     ]
    }
   ],
   "source": [
    "calc_checks(0, 5, conformat)"
   ]
  },
  {
   "cell_type": "code",
   "execution_count": 15,
   "id": "96254b59",
   "metadata": {},
   "outputs": [
    {
     "data": {
      "text/plain": [
       "N                    6.000000e+00\n",
       "J                    8.000000e-01\n",
       "h                    0.000000e+00\n",
       "mean_R_sq            9.014120e+00\n",
       "err_mean_R_sq        1.759640e-02\n",
       "mean_R_gyr_sq        1.474150e+00\n",
       "err_mean_R_gyr_sq    1.433180e-03\n",
       "mean_e               3.664320e-01\n",
       "err_mean_e           9.675000e-04\n",
       "mean_e_sq            2.082390e-01\n",
       "err_mean_e_sq        7.673040e-04\n",
       "mean_e_fourth        9.041950e-02\n",
       "err_mean_e_fourth    6.240110e-04\n",
       "mean_sin             7.689870e-03\n",
       "err_mean_sin         1.797560e-03\n",
       "mean_cos             2.609470e-02\n",
       "err_mean_cos         2.245110e-03\n",
       "mean_m_sq            3.493790e-01\n",
       "err_mean_m_sq        8.588910e-04\n",
       "mean_m_fourth        1.816520e-01\n",
       "err_mean_m_fourth    6.950630e-04\n",
       "steps                1.000000e+07\n",
       "bulk2                6.363660e-01\n",
       "err_bulk2            3.288610e-04\n",
       "bulk3                1.206460e-01\n",
       "err_bulk3            4.526100e-04\n",
       "bulk4                0.000000e+00\n",
       "err_bulk4            0.000000e+00\n",
       "lambda1              1.254180e+00\n",
       "err_lambda1          1.629630e-03\n",
       "lambda2              2.199660e-01\n",
       "err_lambda2          3.210650e-04\n",
       "asperical            4.713590e-01\n",
       "err_aspherical       7.871930e-04\n",
       "Unnamed: 34                   NaN\n",
       "Name: 0, dtype: float64"
      ]
     },
     "execution_count": 15,
     "metadata": {},
     "output_type": "execute_result"
    }
   ],
   "source": [
    "data = pd.read_csv(\"CPP/XY_0.800000_0.000000_6_0.txt\", sep = \" \")\n",
    "data.iloc[0]"
   ]
  },
  {
   "cell_type": "code",
   "execution_count": 21,
   "id": "04b6676d",
   "metadata": {},
   "outputs": [
    {
     "data": {
      "text/plain": [
       "0    0.530089\n",
       "Name: mean_m_sq, dtype: float64"
      ]
     },
     "execution_count": 21,
     "metadata": {},
     "output_type": "execute_result"
    }
   ],
   "source": [
    "data[\"mean_m_sq\"]"
   ]
  },
  {
   "cell_type": "code",
   "execution_count": null,
   "id": "f750244d",
   "metadata": {},
   "outputs": [],
   "source": []
  }
 ],
 "metadata": {
  "kernelspec": {
   "display_name": "Python 3",
   "language": "python",
   "name": "python3"
  },
  "language_info": {
   "codemirror_mode": {
    "name": "ipython",
    "version": 3
   },
   "file_extension": ".py",
   "mimetype": "text/x-python",
   "name": "python",
   "nbconvert_exporter": "python",
   "pygments_lexer": "ipython3",
   "version": "3.8.8"
  }
 },
 "nbformat": 4,
 "nbformat_minor": 5
}
