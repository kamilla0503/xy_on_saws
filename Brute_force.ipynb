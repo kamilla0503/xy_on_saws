{
 "cells": [
  {
   "cell_type": "code",
   "execution_count": 4,
   "id": "53d97554",
   "metadata": {},
   "outputs": [],
   "source": [
    "import matplotlib.pyplot as plt\n",
    "import numpy as np \n",
    "from math import sqrt \n",
    "from math import floor\n",
    "from math import ceil\n",
    "from math import exp \n",
    "import pickle\n",
    "from operator import itemgetter\n",
    "import time\n",
    "from datetime import timedelta\n",
    "import matplotlib\n",
    "from matplotlib import cm, colors\n",
    "from numpy import amin, amax, ravel\n",
    "import pandas as pd \n",
    "import pickle"
   ]
  },
  {
   "cell_type": "code",
   "execution_count": 2,
   "id": "e64b74cb",
   "metadata": {},
   "outputs": [],
   "source": [
    "def get_all_saws(current_paths, length, current_conformation):\n",
    "    \"\"\" Все созданные конформации лежат в первом аргументе функции get_all_saws, \n",
    "    поэтому первым аргументом нужно подавать переменную, которой ранее присвоили пустой список\n",
    "    \n",
    "    \"\"\"\n",
    "    if(length==1):\n",
    "        current_paths.append(current_conformation)\n",
    "    else:\n",
    "        for step in [(1, 0), (-1, 0), (0, 1),  (0, -1)]:\n",
    "            new_point = (current_conformation[-1][0]+step[0], current_conformation[-1][1]+step[1] )\n",
    "            if new_point in current_conformation:\n",
    "                continue\n",
    "            else:\n",
    "                temp_path = current_conformation.copy()\n",
    "                temp_path.append(new_point)\n",
    "                get_all_saws(current_paths, length-1,  temp_path)"
   ]
  },
  {
   "cell_type": "code",
   "execution_count": 3,
   "id": "65ad8c7f",
   "metadata": {},
   "outputs": [],
   "source": [
    "def end_to_end_distance(path):\n",
    "    \"\"\"Евклидова метрика\"\"\"\n",
    "    distance = (path[-1][0]-path[0][0])**2+(path[-1][1]-path[0][1])**2   \n",
    "    return distance "
   ]
  },
  {
   "cell_type": "code",
   "execution_count": 4,
   "id": "3116e2a5",
   "metadata": {},
   "outputs": [],
   "source": [
    "steps = [(1, 0), (-1, 0), (0, 1),  (0, -1)]\n",
    "def xy_energy(saw, seq):\n",
    "    \"\"\"Функция принимает на вход конформацию на плоскости(список координат). \n",
    "    Возвращает число топологических соседей для нее \"\"\"\n",
    "    k=0.0\n",
    "    for i in range(1, len(saw)-1):\n",
    "        for step in steps:\n",
    "            new_point = (saw[i][0]+step[0], saw[i][1]+step[1] )\n",
    "            if (new_point in saw    ):\n",
    "                position = saw.index(new_point)\n",
    "                k=k+np.cos(seq[i]-seq[position])\n",
    "                \n",
    "    for step in steps:\n",
    "        new_point_begin = (saw[0][0]+step[0], saw[0][1]+step[1] )\n",
    "        new_point_end= ( saw[-1][0]+step[0], saw[-1][1]+step[1])\n",
    "        \n",
    "        if(new_point_begin in saw ):\n",
    "            position = saw.index(new_point_begin)\n",
    "            k=k+np.cos(seq[0]-seq[position])\n",
    " \n",
    "        if( new_point_end in saw    ):\n",
    "            position = saw.index(new_point_end)\n",
    "            k=k+np.cos(seq[-1]-seq[position])\n",
    "        \n",
    "        \n",
    "    #print(k//2)\n",
    "    return k/2.0"
   ]
  },
  {
   "cell_type": "code",
   "execution_count": null,
   "id": "a556057f",
   "metadata": {},
   "outputs": [],
   "source": [
    "h = 0\n",
    "def calc_r (eps, f = 8):\n",
    "\n",
    "    mean_c_l = []\n",
    "    \n",
    "    for i in range(4, f+1):\n",
    "        \n",
    "        conformat = []\n",
    "\n",
    "        start_conformation = [(0,0)]\n",
    "        get_all_saws(conformat, i ,start_conformation)\n",
    "\n",
    "        Z = 0.0\n",
    "        R_sum = 0.0\n",
    "        \n",
    "        seq = np.random.uniform(-np.pi,np.pi, (1000, i))\n",
    "         \n",
    "        for l in range(len(conformat)):\n",
    "            r = end_to_end_distance(conformat[l])\n",
    "            for j in range(len(seq)):\n",
    "                E = xy_energy(conformat[l], seq[j])\n",
    "                Z = Z + np.exp(-(-eps*E ))\n",
    "                 \n",
    "                R_sum = R_sum + np.exp(-(-eps*E ))*r\n",
    "\n",
    "        mean_c_l.append(R_sum/Z)\n",
    "        \n",
    " \n",
    "            \n",
    "        print(i)\n",
    "        #print(R_sum,Z)\n",
    "        print(R_sum/Z)"
   ]
  },
  {
   "cell_type": "code",
   "execution_count": 14,
   "id": "e78a9a8b",
   "metadata": {},
   "outputs": [],
   "source": [
    "h = 0\n",
    "def calc_checks(eps, f = 8, conformat= None):\n",
    "    if (conformat==None):\n",
    "        \n",
    "        conformat = []\n",
    "\n",
    "        start_conformation = [(0,0)]\n",
    "        get_all_saws(conformat, i ,start_conformation)\n",
    "\n",
    "    Z = 0.0\n",
    "    R_sum = 0.0\n",
    "\n",
    "    seq = np.random.uniform(-np.pi,np.pi, (1000, f))\n",
    "\n",
    "    sin = 0.0\n",
    "    cos = 0.0 \n",
    "    mag2 = 0.0\n",
    "    for l in range(len(conformat)):\n",
    "        r = end_to_end_distance(conformat[l])\n",
    "        for j in range(len(seq)):\n",
    "            E = xy_energy(conformat[l], seq[j])\n",
    "            sin_ = np.mean(np.sin(seq[j]))\n",
    "            cos_ = np.mean(np.cos(seq[j]))\n",
    "            mag2_ = np.mean(np.cos(seq[j]))**2+np.mean(np.sin(seq[j]))**2\n",
    "            Z = Z + np.exp(-(-eps*E ))\n",
    "\n",
    "            R_sum = R_sum + np.exp(-(-eps*E ))*r\n",
    "            sin+= (np.exp(-(-eps*E ))*sin_)\n",
    "            cos+= (np.exp(-(-eps*E ))*cos_)\n",
    "            mag2+= (np.exp(-(-eps*E ))*mag2_)\n",
    "\n",
    " \n",
    "        #print(R_sum,Z)\n",
    "    print(R_sum/Z)\n",
    "    print(\"sin \", sin/Z)\n",
    "    print(\"cos \", cos/Z)\n",
    "    print(\"mag2 \", mag2/Z)\n",
    " "
   ]
  },
  {
   "cell_type": "code",
   "execution_count": 9,
   "id": "050445e8",
   "metadata": {},
   "outputs": [],
   "source": [
    "conformat = []\n",
    "\n",
    "start_conformation = [(0,0)]\n",
    "get_all_saws(conformat, 6 ,start_conformation)"
   ]
  },
  {
   "cell_type": "code",
   "execution_count": 16,
   "id": "bde74c17",
   "metadata": {},
   "outputs": [
    {
     "name": "stdout",
     "output_type": "stream",
     "text": [
      "9.09945905628017\n",
      "sin  -0.00995490332543533\n",
      "cos  -0.017305319039652312\n",
      "mag2  0.31616627028840927\n"
     ]
    }
   ],
   "source": [
    "calc_checks(0.8, 6, conformat)"
   ]
  },
  {
   "cell_type": "code",
   "execution_count": 15,
   "id": "c488ca33",
   "metadata": {},
   "outputs": [
    {
     "name": "stdout",
     "output_type": "stream",
     "text": [
      "8.956733635486673\n",
      "sin  -0.04999729180857924\n",
      "cos  0.08400457707214998\n",
      "mag2  0.3762458552720814\n"
     ]
    }
   ],
   "source": [
    "calc_checks(0.8, 6, conformat)"
   ]
  },
  {
   "cell_type": "code",
   "execution_count": 19,
   "id": "a39eacd4",
   "metadata": {},
   "outputs": [
    {
     "data": {
      "text/html": [
       "<div>\n",
       "<style scoped>\n",
       "    .dataframe tbody tr th:only-of-type {\n",
       "        vertical-align: middle;\n",
       "    }\n",
       "\n",
       "    .dataframe tbody tr th {\n",
       "        vertical-align: top;\n",
       "    }\n",
       "\n",
       "    .dataframe thead th {\n",
       "        text-align: right;\n",
       "    }\n",
       "</style>\n",
       "<table border=\"1\" class=\"dataframe\">\n",
       "  <thead>\n",
       "    <tr style=\"text-align: right;\">\n",
       "      <th></th>\n",
       "      <th></th>\n",
       "      <th>N</th>\n",
       "      <th>J</th>\n",
       "      <th>h</th>\n",
       "      <th>mean_R_sq</th>\n",
       "      <th>err_mean_R_sq</th>\n",
       "      <th>mean_R_gyr_sq</th>\n",
       "      <th>err_mean_R_gyr_sq</th>\n",
       "      <th>mean_e</th>\n",
       "      <th>err_mean_e</th>\n",
       "      <th>mean_e_sq</th>\n",
       "      <th>...</th>\n",
       "      <th>bulk3</th>\n",
       "      <th>err_bulk3</th>\n",
       "      <th>bulk4</th>\n",
       "      <th>err_bulk4</th>\n",
       "      <th>lambda1</th>\n",
       "      <th>err_lambda1</th>\n",
       "      <th>lambda2</th>\n",
       "      <th>err_lambda2</th>\n",
       "      <th>asperical</th>\n",
       "      <th>err_aspherical</th>\n",
       "    </tr>\n",
       "  </thead>\n",
       "  <tbody>\n",
       "    <tr>\n",
       "      <th>NaN</th>\n",
       "      <th>7</th>\n",
       "      <td>1.5</td>\n",
       "      <td>0</td>\n",
       "      <td>9.62586</td>\n",
       "      <td>0.017621</td>\n",
       "      <td>1.67615</td>\n",
       "      <td>0.001582</td>\n",
       "      <td>-0.610896</td>\n",
       "      <td>0.000939</td>\n",
       "      <td>0.421813</td>\n",
       "      <td>0.001188</td>\n",
       "      <td>...</td>\n",
       "      <td>0.000448</td>\n",
       "      <td>0.013398</td>\n",
       "      <td>0.000108</td>\n",
       "      <td>1.3875</td>\n",
       "      <td>0.001742</td>\n",
       "      <td>0.288644</td>\n",
       "      <td>0.000246</td>\n",
       "      <td>0.412975</td>\n",
       "      <td>0.000634</td>\n",
       "      <td>NaN</td>\n",
       "    </tr>\n",
       "  </tbody>\n",
       "</table>\n",
       "<p>1 rows × 34 columns</p>\n",
       "</div>"
      ],
      "text/plain": [
       "         N  J        h  mean_R_sq  err_mean_R_sq  mean_R_gyr_sq  \\\n",
       "NaN 7  1.5  0  9.62586   0.017621        1.67615       0.001582   \n",
       "\n",
       "       err_mean_R_gyr_sq    mean_e  err_mean_e  mean_e_sq  ...     bulk3  \\\n",
       "NaN 7          -0.610896  0.000939    0.421813   0.001188  ...  0.000448   \n",
       "\n",
       "       err_bulk3     bulk4  err_bulk4   lambda1  err_lambda1   lambda2  \\\n",
       "NaN 7   0.013398  0.000108     1.3875  0.001742     0.288644  0.000246   \n",
       "\n",
       "       err_lambda2  asperical  err_aspherical  \n",
       "NaN 7     0.412975   0.000634             NaN  \n",
       "\n",
       "[1 rows x 34 columns]"
      ]
     },
     "execution_count": 19,
     "metadata": {},
     "output_type": "execute_result"
    }
   ],
   "source": [
    "data"
   ]
  },
  {
   "cell_type": "code",
   "execution_count": 20,
   "id": "96254b59",
   "metadata": {},
   "outputs": [
    {
     "data": {
      "text/plain": [
       "N                    7.000000e+00\n",
       "J                    1.500000e+00\n",
       "h                    0.000000e+00\n",
       "mean_R_sq            9.625860e+00\n",
       "err_mean_R_sq        1.762100e-02\n",
       "mean_R_gyr_sq        1.676150e+00\n",
       "err_mean_R_gyr_sq    1.581920e-03\n",
       "mean_e              -6.108960e-01\n",
       "err_mean_e           9.391750e-04\n",
       "mean_e_sq            4.218130e-01\n",
       "err_mean_e_sq        1.187760e-03\n",
       "mean_e_fourth        2.662450e-01\n",
       "err_mean_e_fourth    1.352930e-03\n",
       "mean_sin             6.509730e-03\n",
       "err_mean_sin         4.167390e-03\n",
       "mean_cos            -1.056820e-02\n",
       "err_mean_cos         4.341120e-03\n",
       "mean_m_sq            5.300890e-01\n",
       "err_mean_m_sq        9.570230e-04\n",
       "mean_m_fourth        3.441980e-01\n",
       "err_mean_m_fourth    9.977800e-04\n",
       "steps                1.000000e+07\n",
       "bulk2                5.944830e-01\n",
       "err_bulk2            3.430100e-04\n",
       "bulk3                1.987650e-01\n",
       "err_bulk3            4.482580e-04\n",
       "bulk4                1.339840e-02\n",
       "err_bulk4            1.082170e-04\n",
       "lambda1              1.387500e+00\n",
       "err_lambda1          1.742210e-03\n",
       "lambda2              2.886440e-01\n",
       "err_lambda2          2.463800e-04\n",
       "asperical            4.129750e-01\n",
       "err_aspherical       6.341140e-04\n",
       "Unnamed: 34                   NaN\n",
       "Name: 0, dtype: float64"
      ]
     },
     "execution_count": 20,
     "metadata": {},
     "output_type": "execute_result"
    }
   ],
   "source": [
    "data = pd.read_csv(\"CPP/XY_1.500000_0.000000_7_0.txt\", sep = \" \")\n",
    "data.iloc[0]"
   ]
  },
  {
   "cell_type": "code",
   "execution_count": 21,
   "id": "04b6676d",
   "metadata": {},
   "outputs": [
    {
     "data": {
      "text/plain": [
       "0    0.530089\n",
       "Name: mean_m_sq, dtype: float64"
      ]
     },
     "execution_count": 21,
     "metadata": {},
     "output_type": "execute_result"
    }
   ],
   "source": [
    "data[\"mean_m_sq\"]"
   ]
  },
  {
   "cell_type": "code",
   "execution_count": null,
   "id": "f750244d",
   "metadata": {},
   "outputs": [],
   "source": []
  }
 ],
 "metadata": {
  "kernelspec": {
   "display_name": "Python 3",
   "language": "python",
   "name": "python3"
  },
  "language_info": {
   "codemirror_mode": {
    "name": "ipython",
    "version": 3
   },
   "file_extension": ".py",
   "mimetype": "text/x-python",
   "name": "python",
   "nbconvert_exporter": "python",
   "pygments_lexer": "ipython3",
   "version": "3.8.8"
  }
 },
 "nbformat": 4,
 "nbformat_minor": 5
}
